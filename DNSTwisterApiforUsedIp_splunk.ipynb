{
  "nbformat": 4,
  "nbformat_minor": 0,
  "metadata": {
    "colab": {
      "name": "DNSTwisterApiforUsedIp_splunk.ipynb",
      "version": "0.3.2",
      "provenance": [],
      "collapsed_sections": []
    },
    "kernelspec": {
      "name": "python3",
      "display_name": "Python 3"
    }
  },
  "cells": [
    {
      "cell_type": "markdown",
      "metadata": {
        "id": "YA1E9Et1NsI3",
        "colab_type": "text"
      },
      "source": [
        ""
      ]
    },
    {
      "cell_type": "code",
      "metadata": {
        "id": "j2HKzBDHQJO1",
        "colab_type": "code",
        "outputId": "d2fc99b9-2c6a-44a5-cfc6-4e02129faad2",
        "colab": {
          "base_uri": "https://localhost:8080/",
          "height": 190
        }
      },
      "source": [
        ")"
      ],
      "execution_count": 0,
      "outputs": [
        {
          "output_type": "stream",
          "text": [
            "200\n",
            "<bound method Response.json of <Response [200]>>\n",
            "{\"domain\":\"calpine.com\",\"domain_as_hexadecimal\":\"63616c70696e652e636f6d\",\"fuzz_url\":\"http://dnstwister.report/api/fuzz/63616c70696e652e636f6d\",\"parked_score_url\":\"http://dnstwister.report/api/parked/63616c70696e652e636f6d\",\"resolve_ip_url\":\"http://dnstwister.report/api/ip/63616c70696e652e636f6d\",\"url\":\"http://dnstwister.report/api/to_hex/calpine.com\"}\n",
            "\n",
            "{'Date': 'Tue, 16 Jul 2019 19:04:59 GMT', 'Content-Type': 'application/json', 'Transfer-Encoding': 'chunked', 'Connection': 'keep-alive', 'Set-Cookie': '__cfduid=dac1092ad172b7258a9bd8374f7105f671563303899; expires=Wed, 15-Jul-20 19:04:59 GMT; path=/; domain=.dnstwister.report; HttpOnly', 'Via': '1.1 vegur', 'CF-Cache-Status': 'HIT', 'Age': '17', 'Expires': 'Wed, 17 Jul 2019 07:04:59 GMT', 'Cache-Control': 'public, max-age=43200', 'Strict-Transport-Security': 'max-age=31536000; includeSubDomains; preload', 'X-Content-Type-Options': 'nosniff', 'Expect-CT': 'max-age=604800, report-uri=\"https://report-uri.cloudflare.com/cdn-cgi/beacon/expect-ct\"', 'Vary': 'Accept-Encoding', 'Server': 'cloudflare', 'CF-RAY': '4f763ebb1ab7580b-DFW', 'Content-Encoding': 'gzip'}\n",
            "<class 'str'>\n",
            "{'domain': 'calpine.com', 'domain_as_hexadecimal': '63616c70696e652e636f6d', 'fuzz_url': 'http://dnstwister.report/api/fuzz/63616c70696e652e636f6d', 'parked_score_url': 'http://dnstwister.report/api/parked/63616c70696e652e636f6d', 'resolve_ip_url': 'http://dnstwister.report/api/ip/63616c70696e652e636f6d', 'url': 'http://dnstwister.report/api/to_hex/calpine.com'}\n",
            "63616c70696e652e636f6d\n",
            "https://dnstwister.report/api/to_hex/calpine.com\n"
          ],
          "name": "stdout"
        }
      ]
    },
    {
      "cell_type": "code",
      "metadata": {
        "id": "3pEGsQcY-6RG",
        "colab_type": "code",
        "outputId": "e12eecfb-1738-4773-db9c-eb59763e899e",
        "colab": {
          "base_uri": "https://localhost:8080/",
          "height": 935
        }
      },
      "source": [
        "import requests\n",
        "\n",
        "def get_urls(url):\n",
        "  response = requests.get(\"https://dnstwister.report/api/to_hex/\"+url)\n",
        "  todos = response.json()\n",
        "  global domain_name\n",
        "  global domain_hex\n",
        "  global fuzz_urls\n",
        "  global parked_score_url\n",
        "  global resolve_ip_url\n",
        "  global complete_url\n",
        "  domain_name = todos['domain']\n",
        "  domain_hex = todos['domain_as_hexadecimal']\n",
        "  fuzz_urls = todos['fuzz_url']\n",
        "  parked_score_url = todos['parked_score_url']\n",
        "  resolve_ip_url = todos['resolve_ip_url']\n",
        "  complete_url = todos['url']\n",
        "\n",
        "                        \n",
        "      \n",
        "      \n",
        "      \n",
        "      \n",
        "def ip_url(hex_url):\n",
        "  #print(hex_url)\n",
        "  response = requests.get(hex_url)\n",
        "  todos_ip = response.json()\n",
        "  received_ip = todos_ip['ip']\n",
        "  if received_ip == False:\n",
        "    return None\n",
        "  else:\n",
        "    print(iffyurls['domain'])\n",
        "    print(received_ip)\n",
        "        \n",
        "      \n",
        "      \n",
        "def fuzz_url(url):\n",
        "  get_urls(url)\n",
        "  response_fuzz = requests.get(fuzz_urls)\n",
        "  todos_fuzz = response_fuzz.json()\n",
        "  global fuzzy_domains\n",
        "  fuzzy_domains = todos_fuzz['fuzzy_domains']\n",
        "  global iffyurls\n",
        "  for iffyurls in fuzzy_domains:\n",
        "    ip_connected = ip_url(iffyurls['resolve_ip_url'])\n",
        "    \n",
        "\n",
        "fuzz_url(\"calpine.com\")\n"
      ],
      "execution_count": 3,
      "outputs": [
        {
          "output_type": "stream",
          "text": [
            "calpine.com\n",
            "169.61.69.226\n",
            "calpines.com\n",
            "23.246.252.115\n",
            "balpine.com\n",
            "50.63.202.48\n",
            "aalpine.com\n",
            "23.20.239.12\n",
            "galpine.com\n",
            "184.168.131.241\n",
            "campine.com\n",
            "176.62.173.241\n",
            "canpine.com\n",
            "23.245.234.43\n",
            "calpane.com\n",
            "172.246.230.114\n",
            "calpina.com\n",
            "217.160.123.28\n",
            "ealpine.com\n",
            "159.8.210.35\n",
            "cal-pine.com\n",
            "95.216.161.60\n",
            "callpine.com\n",
            "23.20.239.12\n",
            "capine.com\n",
            "217.160.0.105\n",
            "caline.com\n",
            "71.19.255.10\n",
            "calpie.com\n",
            "154.197.168.107\n",
            "calpin.com\n",
            "23.20.239.12\n",
            "ccalpine.com\n",
            "194.63.248.47\n",
            "valpine.com\n",
            "184.168.221.60\n",
            "dalpine.com\n",
            "23.227.38.32\n",
            "xalpine.com\n",
            "188.64.184.197\n",
            "calline.com\n",
            "192.35.158.42\n",
            "ca.lpine.com\n",
            "18.211.9.206\n",
            "calpi.ne.com\n",
            "40.77.56.174\n",
            "capline.com\n",
            "69.172.201.153\n",
            "calpnie.com\n",
            "74.208.236.168\n",
            "calpino.com\n",
            "138.201.35.194\n",
            "calpini.com\n",
            "199.34.228.71\n"
          ],
          "name": "stdout"
        }
      ]
    }
  ]
}